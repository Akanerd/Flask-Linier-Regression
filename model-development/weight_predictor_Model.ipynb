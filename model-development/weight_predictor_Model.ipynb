{
 "cells": [
  {
   "cell_type": "markdown",
   "metadata": {
    "id": "j6ahr-edxwnX"
   },
   "source": [
    "**Import Library** "
   ]
  },
  {
   "cell_type": "code",
   "execution_count": 1,
   "metadata": {
    "id": "MYsl9Ahirot6"
   },
   "outputs": [],
   "source": [
    "import pandas as pd\n",
    "import numpy as np\n",
    "from sklearn.pipeline import make_pipeline\n",
    "from sklearn.preprocessing import StandardScaler\n",
    "from sklearn.linear_model import LinearRegression\n",
    "from sklearn.model_selection import train_test_split"
   ]
  },
  {
   "cell_type": "code",
   "execution_count": 2,
   "metadata": {
    "id": "iwOyJVozrvrE"
   },
   "outputs": [],
   "source": [
    "import pickle"
   ]
  },
  {
   "cell_type": "markdown",
   "metadata": {
    "id": "D7S-xBUbx2xC"
   },
   "source": [
    "**Import Dataset**"
   ]
  },
  {
   "cell_type": "markdown",
   "metadata": {
    "id": "-ScUcg9Rx8j4"
   },
   "source": [
    "**Load Dataset**"
   ]
  },
  {
   "cell_type": "code",
   "execution_count": 3,
   "metadata": {
    "id": "OGnX3CwRsrK5"
   },
   "outputs": [],
   "source": [
    "data = pd.read_csv('datasets/weight-height.csv')"
   ]
  },
  {
   "cell_type": "markdown",
   "metadata": {
    "id": "Kg3BH7fD2_VL"
   },
   "source": [
    "**Converting Categorical Values to numerical values**"
   ]
  },
  {
   "cell_type": "code",
   "execution_count": 4,
   "metadata": {
    "id": "59e6q8BbuACF"
   },
   "outputs": [],
   "source": [
    "data['Gender'] = data['Gender'].apply(lambda x:{'Male' : 1,'Female' : 0}[x])"
   ]
  },
  {
   "cell_type": "markdown",
   "metadata": {
    "id": "qvNZWF4g3It7"
   },
   "source": [
    "**Extracting Prediction and Features values**"
   ]
  },
  {
   "cell_type": "code",
   "execution_count": 5,
   "metadata": {
    "id": "b1ZgJ5x4uat5"
   },
   "outputs": [],
   "source": [
    "X = data.iloc[:,[1,0]].values\n",
    "y = data.iloc[:,2].values"
   ]
  },
  {
   "cell_type": "markdown",
   "metadata": {
    "id": "Dweqn26k3YYz"
   },
   "source": [
    "**Splitting data for training and testing**"
   ]
  },
  {
   "cell_type": "code",
   "execution_count": 6,
   "metadata": {
    "id": "AEPY4R82wlZd"
   },
   "outputs": [],
   "source": [
    "X_train, X_test, y_train, y_test = train_test_split(X, y, test_size = 0.25, \n",
    "                                                    random_state = 30)"
   ]
  },
  {
   "cell_type": "markdown",
   "metadata": {
    "id": "8cbGfKbz3bYD"
   },
   "source": [
    "**Creating Model Linier Regression**"
   ]
  },
  {
   "cell_type": "code",
   "execution_count": 7,
   "metadata": {
    "colab": {
     "base_uri": "https://localhost:8080/"
    },
    "id": "OV7irO52wnSb",
    "outputId": "d3e47d38-cd15-4e1f-bded-be24a9555bab"
   },
   "outputs": [
    {
     "data": {
      "text/plain": [
       "Pipeline(steps=[('standardscaler', StandardScaler()),\n",
       "                ('linearregression', LinearRegression())])"
      ]
     },
     "execution_count": 7,
     "metadata": {},
     "output_type": "execute_result"
    }
   ],
   "source": [
    "weight_predictor = make_pipeline(StandardScaler(), LinearRegression())\n",
    "weight_predictor.fit(X_train, y_train)"
   ]
  },
  {
   "cell_type": "markdown",
   "metadata": {
    "id": "qfM39ZA53lu7"
   },
   "source": [
    "**Check Result**"
   ]
  },
  {
   "cell_type": "code",
   "execution_count": 8,
   "metadata": {
    "colab": {
     "base_uri": "https://localhost:8080/"
    },
    "id": "N2WbugyY1Vy0",
    "outputId": "7856ad77-c86b-43e2-af8a-dc0867384cd7"
   },
   "outputs": [
    {
     "data": {
      "text/plain": [
       "array([123.52937154, 197.9552789 , 186.27757801, ..., 117.05957185,\n",
       "       132.7688169 , 127.19241069])"
      ]
     },
     "execution_count": 8,
     "metadata": {},
     "output_type": "execute_result"
    }
   ],
   "source": [
    "weight_predictor.predict(X_test)"
   ]
  },
  {
   "cell_type": "markdown",
   "metadata": {
    "id": "rFvToEPH3pZM"
   },
   "source": [
    "**Check Accuracy**"
   ]
  },
  {
   "cell_type": "code",
   "execution_count": 9,
   "metadata": {
    "id": "6y5VMWnGxXQ8"
   },
   "outputs": [],
   "source": [
    "accuracy = weight_predictor.score(X_test, y_test)"
   ]
  },
  {
   "cell_type": "code",
   "execution_count": 10,
   "metadata": {
    "colab": {
     "base_uri": "https://localhost:8080/"
    },
    "id": "t2LOCXCjwzjs",
    "outputId": "57210097-3105-4a1b-90a2-977a91063624"
   },
   "outputs": [
    {
     "name": "stdout",
     "output_type": "stream",
     "text": [
      "Akurasi Model : 90.65287341399927%\n"
     ]
    }
   ],
   "source": [
    "print(f\"Akurasi Model : {accuracy*100}%\") "
   ]
  },
  {
   "cell_type": "code",
   "execution_count": 11,
   "metadata": {
    "id": "V7zwVTIpwtcU"
   },
   "outputs": [],
   "source": [
    "pickle.dump(weight_predictor, open(\"weight_predictor.pkl\", \"wb\"))"
   ]
  }
 ],
 "metadata": {
  "colab": {
   "name": "weight_predictor_Model.ipynb",
   "provenance": []
  },
  "kernelspec": {
   "display_name": "Python 3 (ipykernel)",
   "language": "python",
   "name": "python3"
  },
  "language_info": {
   "codemirror_mode": {
    "name": "ipython",
    "version": 3
   },
   "file_extension": ".py",
   "mimetype": "text/x-python",
   "name": "python",
   "nbconvert_exporter": "python",
   "pygments_lexer": "ipython3",
   "version": "3.9.7"
  }
 },
 "nbformat": 4,
 "nbformat_minor": 1
}
